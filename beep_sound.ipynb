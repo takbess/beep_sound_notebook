{
 "cells": [
  {
   "cell_type": "code",
   "execution_count": 8,
   "metadata": {},
   "outputs": [],
   "source": [
    "# 0.5秒音鳴らす、3秒無音、というのを10分間繰り返す。\n",
    "import numpy as np\n",
    "import IPython.display as ipd\n",
    "import time\n",
    "\n",
    "def my_beep():\n",
    "    # beep_sound の作成\n",
    "    sec = 0.5 #音の継続時間\n",
    "    rate = 1e4 # 1秒間のデータ点数。この辺が最低限必要なデータ点数。\n",
    "    Heltz = 1500 # 4000 ヘルツはよく聞こえるけど、耳障り。500ヘルツはジャズ音楽、コオロギの音と混じる。電子レンジは2000ヘルツくらい。\n",
    "    beep_sound = np.sin(2*np.pi*Heltz*np.arange(rate*sec)/rate)\n",
    "\n",
    "    # beep_null の作成\n",
    "    sec_null = 10 #音の継続時間\n",
    "    rate = 1e4 # 1秒間のデータ点数。この辺が最低限必要なデータ点数。\n",
    "    Heltz = 0 # 4000 ヘルツはよく聞こえるけど、耳障り。500ヘルツはジャズ音楽、コオロギの音と混じる。電子レンジは2000ヘルツくらい。\n",
    "    beep_null = np.sin(2*np.pi*Heltz*np.arange(rate*sec_null)/rate)\n",
    "\n",
    "    total_time = 10 * 60 #10分間\n",
    "    sum_time = 0\n",
    "    beep_all = list()\n",
    "    for i in range(int(1e5)):#十分に大きい数\n",
    "        beep_all.append(beep_sound)\n",
    "        sum_time += sec\n",
    "        \n",
    "        beep_all.append(beep_null)\n",
    "        sum_time += sec_null\n",
    "    \n",
    "        if sum_time > total_time:\n",
    "            break\n",
    "            \n",
    "    beep_all = np.concatenate(tuple(beep_all))\n",
    "\n",
    "    Amp = 0.2 # 音量\n",
    "    return ipd.Audio(Amp*beep_all, rate=rate,autoplay=True,normalize=False,)\n",
    "\n",
    "my_beep()"
   ]
  },
  {
   "cell_type": "code",
   "execution_count": null,
   "metadata": {},
   "outputs": [],
   "source": []
  }
 ],
 "metadata": {
  "kernelspec": {
   "display_name": "Python 3",
   "language": "python",
   "name": "python3"
  },
  "language_info": {
   "codemirror_mode": {
    "name": "ipython",
    "version": 3
   },
   "file_extension": ".py",
   "mimetype": "text/x-python",
   "name": "python",
   "nbconvert_exporter": "python",
   "pygments_lexer": "ipython3",
   "version": "3.10.8"
  },
  "orig_nbformat": 4
 },
 "nbformat": 4,
 "nbformat_minor": 2
}
